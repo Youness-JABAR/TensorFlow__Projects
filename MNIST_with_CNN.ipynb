{
  "nbformat": 4,
  "nbformat_minor": 0,
  "metadata": {
    "colab": {
      "name": "MNIST_with_CNN.ipynb",
      "provenance": [],
      "collapsed_sections": [],
      "authorship_tag": "ABX9TyPPjlLxXWXtQPEYePBZd+jI",
      "include_colab_link": true
    },
    "kernelspec": {
      "name": "python3",
      "display_name": "Python 3"
    },
    "language_info": {
      "name": "python"
    }
  },
  "cells": [
    {
      "cell_type": "markdown",
      "metadata": {
        "id": "view-in-github",
        "colab_type": "text"
      },
      "source": [
        "<a href=\"https://colab.research.google.com/github/Youness-JABAR/TensorFlow__Projects/blob/main/MNIST_with_CNN.ipynb\" target=\"_parent\"><img src=\"https://colab.research.google.com/assets/colab-badge.svg\" alt=\"Open In Colab\"/></a>"
      ]
    },
    {
      "cell_type": "code",
      "metadata": {
        "id": "Jr3TK4qywL4T"
      },
      "source": [
        "import tensorflow as tf "
      ],
      "execution_count": 6,
      "outputs": []
    },
    {
      "cell_type": "code",
      "metadata": {
        "id": "H0NX1cM1wPMS"
      },
      "source": [
        "DESIRED_ACCURACY = 0.998\n",
        "\n",
        "class myCallback(tf.keras.callbacks.Callback):\n",
        "    def on_epoch_end(self, epochs, logs={}) :\n",
        "        if(logs.get('accuracy') is not None and logs.get('accuracy') >= DESIRED_ACCURACY) :\n",
        "            print('\\nReached 99.8% accuracy so cancelling training!')\n",
        "            self.model.stop_training = True"
      ],
      "execution_count": 5,
      "outputs": []
    },
    {
      "cell_type": "code",
      "metadata": {
        "id": "jiBjtUVzweek"
      },
      "source": [
        "# GRADED FUNCTION: train_mnist\n",
        "def train_mnist_conv():\n",
        "    callback=myCallback()\n",
        "\n",
        "    mnist = tf.keras.datasets.mnist\n",
        "\n",
        "    (x_train, y_train),(x_test, y_test) = mnist.load_data()\n",
        "    x_train=x_train.reshape(60000, 28, 28, 1)\n",
        "    x_train=x_train/255.0\n",
        "    x_test = x_test.reshape(10000, 28, 28, 1)\n",
        "    x_test=x_test/255.0\n",
        "    model = tf.keras.models.Sequential([\n",
        "                                        \n",
        "                                        tf.keras.layers.Conv2D(32,(3,3),activation='relu'),\n",
        "                                        tf.keras.layers.MaxPooling2D(2,2),\n",
        "                                        tf.keras.layers.Flatten(),\n",
        "                                        tf.keras.layers.Dense(128, activation='relu'),\n",
        "                                        tf.keras.layers.Dense(10, activation='softmax')\n",
        "])\n",
        "\n",
        "    model.compile(optimizer='adam',\n",
        "                  loss='sparse_categorical_crossentropy',\n",
        "                  metrics=['accuracy'])\n",
        "    \n",
        "    # model fitting\n",
        "    history = model.fit(x_train,y_train,epochs=20,callbacks=[callback])\n",
        "    # model fitting\n",
        "    return history.epoch, history.history['accuracy'][-1]   "
      ],
      "execution_count": 16,
      "outputs": []
    },
    {
      "cell_type": "code",
      "metadata": {
        "colab": {
          "base_uri": "https://localhost:8080/"
        },
        "id": "NRW0p5GyyRkA",
        "outputId": "609b5a5f-ad08-4d9c-dcff-a9c625c4e2fa"
      },
      "source": [
        "train_mnist_conv()"
      ],
      "execution_count": 17,
      "outputs": [
        {
          "output_type": "stream",
          "text": [
            "Epoch 1/20\n",
            "1875/1875 [==============================] - 32s 17ms/step - loss: 0.1613 - accuracy: 0.9521\n",
            "Epoch 2/20\n",
            "1875/1875 [==============================] - 31s 17ms/step - loss: 0.0538 - accuracy: 0.9838\n",
            "Epoch 3/20\n",
            "1875/1875 [==============================] - 31s 16ms/step - loss: 0.0331 - accuracy: 0.9897\n",
            "Epoch 4/20\n",
            "1875/1875 [==============================] - 31s 16ms/step - loss: 0.0217 - accuracy: 0.9934\n",
            "Epoch 5/20\n",
            "1875/1875 [==============================] - 31s 16ms/step - loss: 0.0150 - accuracy: 0.9952\n",
            "Epoch 6/20\n",
            "1875/1875 [==============================] - 31s 16ms/step - loss: 0.0107 - accuracy: 0.9963\n",
            "Epoch 7/20\n",
            "1875/1875 [==============================] - 30s 16ms/step - loss: 0.0070 - accuracy: 0.9978\n",
            "Epoch 8/20\n",
            "1875/1875 [==============================] - 30s 16ms/step - loss: 0.0065 - accuracy: 0.9979\n",
            "Epoch 9/20\n",
            "1875/1875 [==============================] - 31s 16ms/step - loss: 0.0045 - accuracy: 0.9985\n",
            "\n",
            "Reached 99.8% accuracy so cancelling training!\n"
          ],
          "name": "stdout"
        },
        {
          "output_type": "execute_result",
          "data": {
            "text/plain": [
              "([0, 1, 2, 3, 4, 5, 6, 7, 8], 0.9985499978065491)"
            ]
          },
          "metadata": {
            "tags": []
          },
          "execution_count": 17
        }
      ]
    }
  ]
}